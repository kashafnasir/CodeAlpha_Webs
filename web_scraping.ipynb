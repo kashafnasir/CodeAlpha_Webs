{
 "cells": [
  {
   "cell_type": "code",
   "execution_count": 1,
   "id": "966816c7",
   "metadata": {},
   "outputs": [
    {
     "name": "stdout",
     "output_type": "stream",
     "text": [
      "Status: 200\n"
     ]
    },
    {
     "name": "stderr",
     "output_type": "stream",
     "text": [
      "C:\\Users\\Lenovo\\AppData\\Local\\Temp\\ipykernel_5496\\3228471978.py:17: FutureWarning: Passing literal html to 'read_html' is deprecated and will be removed in a future version. To read from a literal string, wrap it in a 'StringIO' object.\n",
      "  tables = pd.read_html(resp.text)\n"
     ]
    },
    {
     "name": "stdout",
     "output_type": "stream",
     "text": [
      "Found 3 tables\n",
      "        Location  Population % of world         Date  \\\n",
      "0          World  8232000000       100%  13 Jun 2025   \n",
      "1          India  1417492000      17.3%   1 Jul 2025   \n",
      "2          China  1408280000      17.2%  31 Dec 2024   \n",
      "3  United States   340110988       4.1%   1 Jul 2024   \n",
      "4      Indonesia   284438782       3.5%  30 Jun 2025   \n",
      "\n",
      "  Source (official or from the United Nations) Notes  \n",
      "0                          UN projection[1][3]   NaN  \n",
      "1                       Official projection[4]   [b]  \n",
      "2                         Official estimate[5]   [c]  \n",
      "3                         Official estimate[6]   [d]  \n",
      "4                National annual projection[7]   NaN  \n",
      "Data saved to world_population.csv\n"
     ]
    }
   ],
   "source": [
    "import requests\n",
    "import pandas as pd\n",
    "\n",
    "url = \"https://en.wikipedia.org/wiki/List_of_countries_and_dependencies_by_population\"\n",
    "headers = {\n",
    "    \"User-Agent\": \"Mozilla/5.0 (Windows NT 10.0; Win64; x64) \"\n",
    "                  \"AppleWebKit/537.36 (KHTML, like Gecko) \"\n",
    "                  \"Chrome/120.0.0.0 Safari/537.36\",\n",
    "    \"Accept-Language\": \"en-US,en;q=0.9\",\n",
    "}\n",
    "\n",
    "resp = requests.get(url, headers=headers, timeout=15)\n",
    "print(\"Status:\", resp.status_code)\n",
    "resp.raise_for_status()\n",
    "\n",
    "# Extract all tables from the page\n",
    "tables = pd.read_html(resp.text)\n",
    "print(f\"Found {len(tables)} tables\")\n",
    "\n",
    "# Select the main population table (usually the first one)\n",
    "population_df = tables[0]\n",
    "\n",
    "# Clean up the dataframe\n",
    "population_df.columns = population_df.columns.str.strip()  # remove extra spaces\n",
    "print(population_df.head())\n",
    "\n",
    "# Save to CSV\n",
    "population_df.to_csv(\"world_population.csv\", index=False)\n",
    "print(\"Data saved to world_population.csv\")\n"
   ]
  }
 ],
 "metadata": {
  "kernelspec": {
   "display_name": "webscraping_env",
   "language": "python",
   "name": "python3"
  },
  "language_info": {
   "codemirror_mode": {
    "name": "ipython",
    "version": 3
   },
   "file_extension": ".py",
   "mimetype": "text/x-python",
   "name": "python",
   "nbconvert_exporter": "python",
   "pygments_lexer": "ipython3",
   "version": "3.10.18"
  }
 },
 "nbformat": 4,
 "nbformat_minor": 5
}
